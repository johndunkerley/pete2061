{
 "cells": [
  {
   "cell_type": "markdown",
   "metadata": {
    "colab_type": "text",
    "id": "u1YDPNtbdHDj"
   },
   "source": [
    "\n",
    "#  Probability\n",
    "\n",
    "## PETE 2061 Lab 5 Workbook \n",
    "\n",
    "## THIS IS DUE BY 11:59 PM ON SUNDAY (Sept 29, 2019)"
   ]
  },
  {
   "cell_type": "markdown",
   "metadata": {},
   "source": [
    "1. Paste the url (or link) to the pete2061 folder in your github account in the \"marked down\" cell below. <br>"
   ]
  },
  {
   "cell_type": "code",
   "execution_count": 1,
   "metadata": {},
   "outputs": [],
   "source": [
    "#https://github.com/johndunkerley/pete2061"
   ]
  },
  {
   "cell_type": "markdown",
   "metadata": {},
   "source": []
  },
  {
   "cell_type": "markdown",
   "metadata": {},
   "source": [
    "2. **Using the example in \"lab5_Probability.ipynb\", write a Python code to compute the probabililities of all possible total values that can be obtained from rolling a fair die three times**"
   ]
  },
  {
   "cell_type": "code",
   "execution_count": null,
   "metadata": {},
   "outputs": [],
   "source": [
    "import itertools as tools\n",
    "\n",
    "\n",
    "\n",
    "print(f\"Die Roll Possibilities\\n\")\n",
    "dieList = list(range(1,7))\n",
    "print(f\"{dieList} die faces\")\n",
    "resultList = list(tools.product(dieList,repeat=3))\n",
    "print(f\"Total possible combinations = {len(resultList)}\\n\") #lines 5-9 set the possibilites available on the die faces\n",
    "\n",
    "import numpy as np\n",
    "import pandas as pd\n",
    "\n",
    "resultArray = np.array(resultList)\n",
    "totalRoll = np.sum(resultArray,axis = 1)\n",
    "dfPos = pd.DataFrame({\"Die Roll Outcomes\": resultList , \"sumRoll\": totalRoll})\n",
    "print(dfPos) #lines 14-17 build a data frame containing the possible outcomes from 3 rolls of the dice, including the sum of the roll\n",
    "\n",
    "\n",
    "print(\"Probability of Outcomes form 3 dice\\n\\n\")\n",
    "by_sumRoll = dfPos.groupby(\"sumRoll\")\n",
    "\n",
    "outcomeDF = by_sumRoll.count()\n",
    "outcomes = outcomeDF.values[:,0]\n",
    "probability = outcomes / np.sum(outcomes)\n",
    "probDF = pd.DataFrame({\"sum\":list(range(3,19)), \"outcomes\":outcomes, \"probability of roll\":probability})\n",
    "print(probDF) # lines 20-27 grab the range of the sums from the first data set and calculates the probability from the set\n",
    "\n",
    "\n"
   ]
  },
  {
   "cell_type": "code",
   "execution_count": null,
   "metadata": {},
   "outputs": [],
   "source": []
  }
 ],
 "metadata": {
  "colab": {
   "collapsed_sections": [
    "sYQs3O-6dHFb",
    "8sIJ4A57dHFk",
    "_73RPOcBdHFn",
    "h9s2tfPcdHFo",
    "zt4YHVYPdHGR"
   ],
   "include_colab_link": true,
   "name": "Copy of intro-python-colab.ipynb",
   "provenance": [],
   "version": "0.3.2"
  },
  "kernelspec": {
   "display_name": "Python 3",
   "language": "python",
   "name": "python3"
  },
  "language_info": {
   "codemirror_mode": {
    "name": "ipython",
    "version": 3
   },
   "file_extension": ".py",
   "mimetype": "text/x-python",
   "name": "python",
   "nbconvert_exporter": "python",
   "pygments_lexer": "ipython3",
   "version": "3.7.3"
  }
 },
 "nbformat": 4,
 "nbformat_minor": 1
}
