{
 "cells": [
  {
   "cell_type": "markdown",
   "metadata": {
    "colab_type": "text",
    "id": "u1YDPNtbdHDj"
   },
   "source": [
    "# PETE 2061 Mid-term Exam (Part 2) \n",
    "\n",
    "## THIS IS DUE BY 10:10 AM TODAY"
   ]
  },
  {
   "cell_type": "markdown",
   "metadata": {},
   "source": [
    "1. The production rate from an oil well has been observed to decline following either the exponential or the hyperbolic decline model. The initial oil rate ($q_i$) from this well is 10,000 bopd, and its initial decline rate ($D_i$) is 0.1% per day (which is equivalent to 0.001 per day). Write a Python code that: <br>\n",
    "    a. Reads in either \"Exp\" or \"Hyp\" using the input function, and stores the string typed in by the user into a variable named model. <br>\n",
    "    b. If the model typed in by the user is \"Exp\", use the exponential decline model, which is given as: $q = q_i \\, exp(-D_i t)$, to predict the daily oil rate for the first 3650 days (10 years) of production. <br>\n",
    "    c. If the model typed in by the user is \"Hyp\", use the hyperbolic decline model, which is given as: $q = \\frac{q_i}{(1+b D_i t)^{1/b}}$, with a b value of 0.5, to predict the daily oil rate for the first 3650 days (~10 years) of production. <br>\n",
    "    d. Plot the oil rate computed against time using the plt.plot(time,rate) function, after importing matplotlib.pyplot as plt. Remember to use the plt.show() function to display the plot in your Jupyter Notebook <br>\n",
    "    e. Compute and display the mean, minimum and standard deviation of the computed oil rates. <br>    "
   ]
  },
  {
   "cell_type": "code",
   "execution_count": 3,
   "metadata": {},
   "outputs": [
    {
     "name": "stdout",
     "output_type": "stream",
     "text": [
      "Welcome to Decline Curve Analysis for Production Rates\n",
      "\n",
      "Enter type of curve analysis desired (HYP OR EXP)\n",
      "HYP\n"
     ]
    },
    {
     "data": {
      "image/png": "[encoded data removed]",
      "text/plain": [
       "<Figure size 432x288 with 1 Axes>"
      ]
     },
     "metadata": {
      "needs_background": "light"
     },
     "output_type": "display_data"
    },
    {
     "name": "stdout",
     "output_type": "stream",
     "text": [
      "Mean Value is 3540.394767465954 bopd\n",
      "\n",
      "Minimum is 1253.0346933980734 bopd\n",
      "\n",
      "Standard Deviation is 2220.2337455792795 bopd\n",
      "\n"
     ]
    }
   ],
   "source": [
    "print(\"Welcome to Decline Curve Analysis for Production Rates\\n\")\n",
    "\n",
    "import math as mt\n",
    "import pandas as pd\n",
    "import numpy as np\n",
    "import matplotlib \n",
    "import matplotlib.pyplot as plt\n",
    "\n",
    "q_i = 10000 #in BOPD\n",
    "\n",
    "d_i = 0.001 #decline rate per day\n",
    "\n",
    "b = 0.5\n",
    "\n",
    "time = np.arange(0,3651)\n",
    "\n",
    "hypList = []\n",
    "expList = []\n",
    "\n",
    "\n",
    "\n",
    "\n",
    "#prodPeriod = 3650 #days\n",
    "\n",
    "\n",
    "model = input(\"Enter type of curve analysis desired (HYP OR EXP)\\n\")\n",
    "\n",
    "if model == \"HYP\":\n",
    "    for x in time:\n",
    "        \n",
    "        #hypDenom = (1 + (b * d_i * x)) ** (1 / b)\n",
    "    \n",
    "        hypDecline = q_i / (1 + (b * d_i * x)) ** (1 / b)\n",
    "        \n",
    "        #print(hypDecline)\n",
    "        \n",
    "        hypList.append(hypDecline)\n",
    "        \n",
    "        \n",
    "    plt.plot(time , hypList)\n",
    "        \n",
    "    plt.show()\n",
    "    \n",
    "    mean = np.mean(hypList)\n",
    "    print(f\"Mean Value is {mean} bopd\\n\")\n",
    "    \n",
    "    minimum = np.min(hypList)\n",
    "    print(f\"Minimum is {minimum} bopd\\n\")\n",
    "    \n",
    "    std = np.std(hypList)\n",
    "    print(f\"Standard Deviation is {std} bopd\\n\")\n",
    "\n",
    "elif model == \"EXP\":\n",
    "    for x in time:\n",
    "        \n",
    "        expDecline = q_i * mt.exp((-1 * d_i * x))\n",
    "        \n",
    "        #print(expDecline)\n",
    "        \n",
    "        expList.append(expDecline)\n",
    "        \n",
    "    plt.plot(time , expList)\n",
    "    plt.show()\n",
    "    \n",
    "    mean = np.mean(expList)\n",
    "    print(f\"Mean Value is {mean} bopd\\n\")\n",
    "    \n",
    "    minimum = np.min(expList)\n",
    "    print(f\"Minimum is {minimum} bopd\\n\")\n",
    "    \n",
    "    std = np.std(expList)\n",
    "    print(f\"Standard Deviation is {std} bopd\\n\")\n",
    "\n",
    "    \n",
    "    \n",
    "    \n",
    "else:\n",
    "    print(\"Decline curve type invalid\")"
   ]
  },
  {
   "cell_type": "markdown",
   "metadata": {},
   "source": [
    "2. Write a Python code that generates, prints and stores 10 random integers into a variable, and then prints the smallest even number out of these 10 numbers. If no even number is present in the 10 random integers, print a message that says \"No even number in the list\". <br>\n",
    "Hints: <br>\n",
    "    a. You can generate a random number using the code below:<br>\n",
    "    myRandInt = np.random.randint(low=1, high=20, size=10)<br>\n",
    "    b. The append function works on a list named myList as follows: <br>\n",
    "    myList.append(\"The current even number from the list should be put in here!\")"
   ]
  },
  {
   "cell_type": "code",
   "execution_count": 2,
   "metadata": {},
   "outputs": [
    {
     "name": "stdout",
     "output_type": "stream",
     "text": [
      "Random Number Generator\n",
      "\n",
      "[ 9  9 19  1  3 19  2 15 13  5]\n",
      "[2]\n"
     ]
    }
   ],
   "source": [
    "print(\"Random Number Generator\\n\")\n",
    "\n",
    "import numpy as np\n",
    "\n",
    "evenList = []\n",
    "\n",
    "randInt = np.random.randint(low = 1, high = 20, size = 10)\n",
    "\n",
    "print(randInt)\n",
    "\n",
    "for x in randInt:\n",
    "    if x % 2 == 0:\n",
    "        evenList.append(x)\n",
    "print(evenList)\n",
    "\n",
    "if evenList == []:\n",
    "    print(\"No even numbers generated\")\n",
    "        "
   ]
  },
  {
   "cell_type": "code",
   "execution_count": null,
   "metadata": {},
   "outputs": [],
   "source": []
  }
 ],
 "metadata": {
  "colab": {
   "collapsed_sections": [
    "sYQs3O-6dHFb",
    "8sIJ4A57dHFk",
    "_73RPOcBdHFn",
    "h9s2tfPcdHFo",
    "zt4YHVYPdHGR"
   ],
   "include_colab_link": true,
   "name": "Copy of intro-python-colab.ipynb",
   "provenance": [],
   "version": "0.3.2"
  },
  "kernelspec": {
   "display_name": "Python 3",
   "language": "python",
   "name": "python3"
  },
  "language_info": {
   "codemirror_mode": {
    "name": "ipython",
    "version": 3
   },
   "file_extension": ".py",
   "mimetype": "text/x-python",
   "name": "python",
   "nbconvert_exporter": "python",
   "pygments_lexer": "ipython3",
   "version": "3.7.3"
  }
 },
 "nbformat": 4,
 "nbformat_minor": 1
}
