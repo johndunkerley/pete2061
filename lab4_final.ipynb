{
 "cells": [
  {
   "cell_type": "markdown",
   "metadata": {
    "colab_type": "text",
    "id": "u1YDPNtbdHDj"
   },
   "source": [
    "# Control Structures and Data Frames\n",
    "\n",
    "## PETE 2061 Lab 4 Workbook \n",
    "\n",
    "## THIS IS DUE BY 11:59 PM ON SUNDAY (Sept 22, 2019)\n",
    "\n",
    "<a id='top'></a>"
   ]
  },
  {
   "cell_type": "markdown",
   "metadata": {},
   "source": [
    "1. Paste the url (or link) to the pete2061 folder in your github account in the \"marked down\" cell below. <br>"
   ]
  },
  {
   "cell_type": "markdown",
   "metadata": {},
   "source": []
  },
  {
   "cell_type": "markdown",
   "metadata": {},
   "source": [
    "2. It is commonly said that one human year is equivalent to 7 dog years. However, this simple conversion fails to recognize that dogs reach adulthood in approximately two years. As a result, some people believe that it is better to count each of the first two human years as 10.5 dog years, and then count each additional human year as 4 dog\n",
    "years. <br>\n",
    "Write a program that implements the conversion from human years to dog years described in the previous paragraph. Ensure that your program works correctly for conversions of less than two human years and for conversions of two or more human years. Your program should generate a random number between 0 and 10. <br>\n",
    "Hints: <br>\n",
    "a. Remember that you can generate a random number between 0 and 1 using the function numpy.random.random(1)<br>\n",
    "b. You can scale this random number to go from 0 to 10 by multiplying it by 10<br>\n",
    "c. At this point what you have is a random floating-point number that goes from 0 to 10. You need to convert this floating-point number to an integer using the int() function."
   ]
  },
  {
   "cell_type": "code",
   "execution_count": null,
   "metadata": {},
   "outputs": [],
   "source": [
    "import pandas as pd\n",
    "import numpy as np\n",
    "\n",
    "H_array = np.random.randint(0, 11, size=10, dtype=int)\n",
    "print(f\"{H_array} human years\")\n",
    "\n",
    "for x in H_array:\n",
    "  if x <= 2:\n",
    "    dogYear = x * 10.5\n",
    "    print(f\"{x} human years is {dogYear} dog years\" )\n",
    "  elif x <= 10 :\n",
    "    dogYear = (x * 4) + 21 - 8\n",
    "    print(f\"{x} human years is {dogYear} dog years\" )\n",
    "  else:\n",
    "    print(\"Error: Dog is dead\")\n",
    "\n",
    "HumY = input(\"Let's play a game! Enter human years as an integer: \")\n",
    "num = int(HumY)\n",
    "\n",
    "if num <= 2:\n",
    "    dogYear = num * 10.5\n",
    "    print(f\"{num} human years is {dogYear} dog years\" )\n",
    "elif num <= 10:\n",
    "    dogYear = (num * 4) + 21 - 8\n",
    "    print(f\"{num} human years is {dogYear} dog years\" )\n",
    "else:\n",
    "    print(\"Error: Dog is dead\")\n",
    "\n",
    "#End of First Task"
   ]
  },
  {
   "cell_type": "markdown",
   "metadata": {},
   "source": [
    "3. For Students A through J, generate 10 different random numbers between 0 and 100. Create a dataframe to store the student names in the first column (called \"Name\"), and store the scores in the second column called \"Score\".\n",
    "   Print out the mean, standard deviation and maximum of the scores, as well as the index of the student with this maximum score. "
   ]
  },
  {
   "cell_type": "code",
   "execution_count": null,
   "metadata": {},
   "outputs": [],
   "source": [
    "#Start of Second Task\n",
    "\n",
    "print(\"Prisoner Ranking System 2000\")\n",
    "from numpy.random import randn\n",
    "np.random.seed(0)\n",
    "studIndex = 'A B C D E F G H I J'.split\n",
    "myRand = np.random.randint(101, size=(10, 1))\n",
    "\n",
    "\n",
    "\n",
    "df = pd.DataFrame(myRand, index ='A B C D E F G H I J'.split(),columns='Score'.split())\n",
    "df = df.rename_axis('Prisoners')\n",
    "print(df)\n",
    "\n",
    "print(\"Maximum\")\n",
    "\n",
    "print(df.max())\n",
    "\n",
    "print(\"Index of Max Score\")\n",
    "\n",
    "print(df.idxmax())\n",
    "\n",
    "print(\"Mean of Prisoner Set\")\n",
    "\n",
    "print(df.mean())\n",
    "\n",
    "print(\"Standard Deviation of Prisoner Scores\")\n",
    "\n",
    "print(df.std())\n",
    "\n",
    "#end of Second Task"
   ]
  },
  {
   "cell_type": "markdown",
   "metadata": {},
   "source": [
    "4. Write a program that begins by reading a score in percentage (%) from the user. Then your program should compute and display the equivalent letter grade. Ensure that your program generates an appropriate error message if the user enters an invalid score.\n",
    "Use the grading scale on your syllabus. These scores are typed in below."
   ]
  },
  {
   "cell_type": "code",
   "execution_count": 52,
   "metadata": {},
   "outputs": [],
   "source": [
    "#Start of Third task\n",
    "print(\"Grade Converter\")\n",
    "\n",
    "gradeNum = input(\"To convert a numerical grade to a letter grade, input percent:\")\n",
    "Num = int(gradeNum)\n",
    "\n",
    "if Num > 110:\n",
    "  print (\"Grade appears invalid\")\n",
    "elif Num >= 100:\n",
    "  print(\"A+\")\n",
    "elif Num >= 97:\n",
    "  print(\"A+\")\n",
    "elif Num >= 93:\n",
    "  print(\"A\")\n",
    "elif Num >= 90:\n",
    "  print(\"A-\")\n",
    "elif Num >= 87:\n",
    "  print(\"B+\")\n",
    "elif Num >= 83:\n",
    "  print(\"B\")\n",
    "elif Num >= 80:\n",
    "  print(\"B-\")\n",
    "elif Num >= 77:\n",
    "  print(\"C+\")\n",
    "elif Num >= 73:\n",
    "  print(\"C\")\n",
    "elif Num >= 70:\n",
    "  print(\"C-\")\n",
    "elif Num >= 67:\n",
    "  print(\"D+\")\n",
    "elif Num >= 63:\n",
    "  print(\"D\")\n",
    "elif Num >= 60:\n",
    "  print(\"D-\")\n",
    "elif Num >= 0:\n",
    "  print(\"Grade is failing. Stop skipping class\")\n",
    "\n",
    "#end of Third Task"
   ]
  },
  {
   "cell_type": "markdown",
   "metadata": {},
   "source": [
    "5. Write a program that generates 10 random integers, and then prints the largest odd number that was entered. If no odd number was entered it should print a message to that effect. <br>\n",
    "Hints: <br>\n",
    "    a. Use pseudo-code. <br>\n",
    "    b. Generate a random number using the code below:<br>\n",
    "    myRandInt = np.random.randint(low=1, high=20, size=10)<br>\n",
    "    c. Initialize an empty list to contain the odd numbers. Name this list oddInt <br>\n",
    "    d. Within your for loop, you can append odd numbers to this empty list using the append function. eg: <br>\n",
    "    oddInt.append(\"The current odd number from the list should be put in here!\")"
   ]
  },
  {
   "cell_type": "code",
   "execution_count": 53,
   "metadata": {},
   "outputs": [],
   "source": [
    "#Start of Fourth Task\n",
    "#This code has the purpose of identifying the odd integers produced in a random number generator\n",
    "\n",
    "print(\"Random Odd Integer Generator\")\n",
    "myRandInt = np.random.randint(low=1, high=20, size=10)\n",
    "oddInt = []\n",
    "\n",
    "for x in myRandInt:\n",
    "  if x % 2 != 0:  #this line of code uses modulo to find odd integers\n",
    "    oddInt.append(x)  #appends list with odd values found\n",
    "  \n",
    "print(f\"{max(oddInt)} is the largest odd integer found\") #displays largest odd integer\n",
    "\n",
    "if sum (oddInt) == 0:\n",
    "  print(\"No odd integers found\") \n",
    "\n",
    "#end of lab"
   ]
  }
 ],
 "metadata": {
  "colab": {
   "collapsed_sections": [
    "sYQs3O-6dHFb",
    "8sIJ4A57dHFk",
    "_73RPOcBdHFn",
    "h9s2tfPcdHFo",
    "zt4YHVYPdHGR"
   ],
   "include_colab_link": true,
   "name": "Copy of intro-python-colab.ipynb",
   "provenance": [],
   "version": "0.3.2"
  },
  "kernelspec": {
   "display_name": "Python 3",
   "language": "python",
   "name": "python3"
  },
  "language_info": {
   "codemirror_mode": {
    "name": "ipython",
    "version": 3
   },
   "file_extension": ".py",
   "mimetype": "text/x-python",
   "name": "python",
   "nbconvert_exporter": "python",
   "pygments_lexer": "ipython3",
   "version": "3.7.3"
  }
 },
 "nbformat": 4,
 "nbformat_minor": 1
}
